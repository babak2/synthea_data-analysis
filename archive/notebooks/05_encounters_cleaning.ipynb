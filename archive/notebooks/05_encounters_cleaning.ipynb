{
 "cells": [
  {
   "cell_type": "markdown",
   "id": "ad77eff8",
   "metadata": {},
   "source": [
    "05_encounters_cleaning.py"
   ]
  },
  {
   "cell_type": "code",
   "execution_count": null,
   "id": "24eefa40",
   "metadata": {},
   "outputs": [],
   "source": [
    "import pandas as pd\n",
    "import numpy as np\n",
    "from pathlib import Path\n",
    "import gzip"
   ]
  },
  {
   "cell_type": "code",
   "execution_count": null,
   "id": "70610f70",
   "metadata": {
    "lines_to_next_cell": 1
   },
   "outputs": [],
   "source": [
    "# Configuration\n",
    "DATA_DIR = Path('data/original')\n",
    "OUTPUT_DIR = Path('data/processed')"
   ]
  },
  {
   "cell_type": "code",
   "execution_count": null,
   "id": "1c52ed79",
   "metadata": {
    "lines_to_next_cell": 1
   },
   "outputs": [],
   "source": [
    "def load_encounters(encounters_path, clean_patients_path):\n",
    "    \"\"\"Load and validate encounters data\"\"\"\n",
    "    encounters = pd.read_csv(encounters_path)\n",
    "    valid_patients = pd.read_csv(clean_patients_path)['id']\n",
    "    \n",
    "    # QC: Filter encounters with valid patient IDs\n",
    "    encounters = encounters[encounters['PATIENT'].isin(valid_patients)]\n",
    "    \n",
    "    # Handle date columns: Convert to datetime, coerce errors\n",
    "    encounters['START'] = pd.to_datetime(encounters['START'], errors='coerce')\n",
    "    encounters['STOP'] = pd.to_datetime(encounters['STOP'], errors='coerce')\n",
    "    \n",
    "    # Filter out any rows with invalid dates or missing key fields\n",
    "    encounters = encounters.dropna(subset=['PATIENT', 'START'])\n",
    "    \n",
    "    # Add any additional cleaning logic based on specific encounter attributes\n",
    "    return encounters"
   ]
  },
  {
   "cell_type": "code",
   "execution_count": null,
   "id": "eac636e7",
   "metadata": {
    "lines_to_next_cell": 2
   },
   "outputs": [],
   "source": [
    "if __name__ == \"__main__\":\n",
    "    encounters = load_encounters(\n",
    "        DATA_DIR/'encounters.csv.gz',\n",
    "        OUTPUT_DIR/'clean_patients.csv'\n",
    "    )\n",
    "    \n",
    "    # Save cleaned encounters data\n",
    "    encounters.to_csv(OUTPUT_DIR/'clean_encounters.csv', index=False)\n",
    "    \n",
    "    # Reporting\n",
    "    print(f\"Initial encounters: {len(pd.read_csv(DATA_DIR/'encounters.csv.gz'))}\")\n",
    "    print(f\"Valid encounters: {len(encounters)}\")\n",
    "    print(f\"Unique patients in encounters: {encounters['PATIENT'].nunique()}\")"
   ]
  }
 ],
 "metadata": {
  "jupytext": {
   "cell_metadata_filter": "-all"
  },
  "kernelspec": {
   "display_name": "Python 3 (ipykernel)",
   "language": "python",
   "name": "python3"
  }
 },
 "nbformat": 4,
 "nbformat_minor": 5
}
