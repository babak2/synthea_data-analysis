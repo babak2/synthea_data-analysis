{
 "cells": [
  {
   "cell_type": "markdown",
   "id": "61b16126",
   "metadata": {},
   "source": [
    "09_hypertension_prevalence.py"
   ]
  },
  {
   "cell_type": "code",
   "execution_count": null,
   "id": "79360389",
   "metadata": {},
   "outputs": [],
   "source": [
    "import pandas as pd\n",
    "import matplotlib.pyplot as plt\n",
    "import seaborn as sns"
   ]
  },
  {
   "cell_type": "code",
   "execution_count": null,
   "id": "8f8151b2",
   "metadata": {},
   "outputs": [],
   "source": [
    "# Load data\n",
    "print(\"Loading data...\")\n",
    "patients = pd.read_csv(\"data/original/patients.csv.gz\")\n",
    "conditions = pd.read_csv(\"data/original/conditions.csv.gz\")\n",
    "observations = pd.read_csv(\"data/original/observations.csv.gz\")"
   ]
  },
  {
   "cell_type": "code",
   "execution_count": null,
   "id": "b4bf3fa7",
   "metadata": {},
   "outputs": [],
   "source": [
    "print(\"\\n--- Sample of Conditions ---\")\n",
    "print(conditions.head())"
   ]
  },
  {
   "cell_type": "code",
   "execution_count": null,
   "id": "748a51f3",
   "metadata": {},
   "outputs": [],
   "source": [
    "# Update hypertension codes from sample\n",
    "hypertension_codes = {\"10509002\", \"283371005\", \"444814009\", \"16114001\"}"
   ]
  },
  {
   "cell_type": "code",
   "execution_count": null,
   "id": "084d8b9a",
   "metadata": {
    "lines_to_next_cell": 2
   },
   "outputs": [],
   "source": [
    "conditions[\"CODE\"] = conditions[\"CODE\"].astype(str).str.rstrip(\".0\")"
   ]
  },
  {
   "cell_type": "code",
   "execution_count": null,
   "id": "d686b5cb",
   "metadata": {},
   "outputs": [],
   "source": [
    "print(\"\\nIdentifying hypertensive patients...\")\n",
    "hypertensive_patients = conditions[conditions[\"CODE\"].isin(hypertension_codes)][\"PATIENT\"].unique()\n",
    "print(\"Number of hypertensive patients:\", len(hypertensive_patients))"
   ]
  },
  {
   "cell_type": "code",
   "execution_count": null,
   "id": "06a6fab7",
   "metadata": {},
   "outputs": [],
   "source": [
    "print(\"\\n--- Summary: Blood Pressure ---\")"
   ]
  },
  {
   "cell_type": "code",
   "execution_count": null,
   "id": "95ddb996",
   "metadata": {},
   "outputs": [],
   "source": [
    "bp_codes = {\"8480-6\": \"SYSTOLIC_BP\", \"8462-4\": \"DIASTOLIC_BP\"}\n",
    "bmi_code = \"39156-5\""
   ]
  },
  {
   "cell_type": "code",
   "execution_count": null,
   "id": "b5fc5af5",
   "metadata": {},
   "outputs": [],
   "source": [
    "# Filter and clean observations\n",
    "bp_obs = observations[observations[\"CODE\"].isin(bp_codes.keys())].copy()\n",
    "bmi_obs = observations[observations[\"CODE\"] == bmi_code].copy()"
   ]
  },
  {
   "cell_type": "code",
   "execution_count": null,
   "id": "b7da645d",
   "metadata": {},
   "outputs": [],
   "source": [
    "bp_obs[\"VALUE\"] = pd.to_numeric(bp_obs[\"VALUE\"], errors=\"coerce\")\n",
    "bmi_obs[\"VALUE\"] = pd.to_numeric(bmi_obs[\"VALUE\"], errors=\"coerce\")"
   ]
  },
  {
   "cell_type": "code",
   "execution_count": null,
   "id": "24582354",
   "metadata": {},
   "outputs": [],
   "source": [
    "# Pivot BP\n",
    "bp_wide = bp_obs.pivot_table(index=[\"PATIENT\", \"DATE\"], \n",
    "                              columns=\"CODE\", values=\"VALUE\", aggfunc=\"mean\").reset_index()\n",
    "bp_wide.rename(columns=bp_codes, inplace=True)"
   ]
  },
  {
   "cell_type": "code",
   "execution_count": null,
   "id": "5e3fd79c",
   "metadata": {},
   "outputs": [],
   "source": [
    "bmi_clean = bmi_obs[[\"PATIENT\", \"DATE\", \"VALUE\"]].rename(columns={\"VALUE\": \"BMI\"})"
   ]
  },
  {
   "cell_type": "code",
   "execution_count": null,
   "id": "8133dd3f",
   "metadata": {},
   "outputs": [],
   "source": [
    "# Merge and tag\n",
    "data = pd.merge(bp_wide, bmi_clean, on=[\"PATIENT\", \"DATE\"], how=\"outer\")\n",
    "data[\"HYPERTENSION\"] = data[\"PATIENT\"].isin(hypertensive_patients)"
   ]
  },
  {
   "cell_type": "code",
   "execution_count": null,
   "id": "0e241271",
   "metadata": {},
   "outputs": [],
   "source": [
    "# Split and clean\n",
    "hyper = data[data[\"HYPERTENSION\"] == True].copy()\n",
    "non_hyper = data[data[\"HYPERTENSION\"] == False].copy()"
   ]
  },
  {
   "cell_type": "code",
   "execution_count": null,
   "id": "cc862d69",
   "metadata": {},
   "outputs": [],
   "source": [
    "for df in [hyper, non_hyper]:\n",
    "    df[\"SYSTOLIC_BP\"] = pd.to_numeric(df[\"SYSTOLIC_BP\"], errors=\"coerce\")\n",
    "    df[\"DIASTOLIC_BP\"] = pd.to_numeric(df[\"DIASTOLIC_BP\"], errors=\"coerce\")\n",
    "    df[\"BMI\"] = pd.to_numeric(df[\"BMI\"], errors=\"coerce\")"
   ]
  },
  {
   "cell_type": "code",
   "execution_count": null,
   "id": "2ba166c4",
   "metadata": {},
   "outputs": [],
   "source": [
    "# Summary stats\n",
    "print(\"\\nHypertensive BP:\\n\", hyper[[\"SYSTOLIC_BP\", \"DIASTOLIC_BP\"]].describe())\n",
    "print(\"\\nNon-Hypertensive BP:\\n\", non_hyper[[\"SYSTOLIC_BP\", \"DIASTOLIC_BP\"]].describe())"
   ]
  },
  {
   "cell_type": "code",
   "execution_count": null,
   "id": "98c14e96",
   "metadata": {},
   "outputs": [],
   "source": [
    "print(\"\\n--- Summary: BMI ---\")\n",
    "print(\"\\nHypertensive BMI:\\n\", hyper[\"BMI\"].describe())\n",
    "print(\"\\nNon-Hypertensive BMI:\\n\", non_hyper[\"BMI\"].describe())"
   ]
  },
  {
   "cell_type": "code",
   "execution_count": null,
   "id": "495601d2",
   "metadata": {
    "lines_to_next_cell": 2
   },
   "outputs": [],
   "source": [
    "# --- Plots ---\n",
    "# Explicitly convert data to a 1D NumPy array using np.ravel()\n",
    "import numpy as np"
   ]
  },
  {
   "cell_type": "code",
   "execution_count": null,
   "id": "2d87ceeb",
   "metadata": {
    "lines_to_next_cell": 2
   },
   "outputs": [],
   "source": [
    "sns.kdeplot(np.array(hyper[\"SYSTOLIC_BP\"].dropna()), label=\"Hypertensive\", color=\"red\")\n",
    "sns.kdeplot(np.array(non_hyper[\"SYSTOLIC_BP\"].dropna()), label=\"Non-Hypertensive\", color=\"blue\")"
   ]
  },
  {
   "cell_type": "code",
   "execution_count": null,
   "id": "5e33c646",
   "metadata": {},
   "outputs": [],
   "source": [
    "plt.title(\"Systolic Blood Pressure Distribution\")\n",
    "plt.xlabel(\"Systolic BP (mmHg)\")\n",
    "plt.legend()\n",
    "plt.show()"
   ]
  },
  {
   "cell_type": "code",
   "execution_count": null,
   "id": "67bd6494",
   "metadata": {},
   "outputs": [],
   "source": [
    "sns.kdeplot(hyper[\"DIASTOLIC_BP\"].dropna().values, label=\"Hypertensive\", color=\"red\")\n",
    "sns.kdeplot(non_hyper[\"DIASTOLIC_BP\"].dropna().values, label=\"Non-Hypertensive\", color=\"blue\")\n",
    "plt.title(\"Diastolic Blood Pressure Distribution\")\n",
    "plt.xlabel(\"Diastolic BP (mmHg)\")\n",
    "plt.legend()\n",
    "plt.show()"
   ]
  },
  {
   "cell_type": "code",
   "execution_count": null,
   "id": "3b4b5153",
   "metadata": {
    "lines_to_next_cell": 2
   },
   "outputs": [],
   "source": [
    "sns.kdeplot(hyper[\"BMI\"].dropna().values, label=\"Hypertensive\", color=\"red\")\n",
    "sns.kdeplot(non_hyper[\"BMI\"].dropna().values, label=\"Non-Hypertensive\", color=\"blue\")\n",
    "plt.title(\"BMI Distribution\")\n",
    "plt.xlabel(\"BMI (kg/m²)\")\n",
    "plt.legend()\n",
    "plt.show()"
   ]
  },
  {
   "cell_type": "code",
   "execution_count": null,
   "id": "a89358c5",
   "metadata": {},
   "outputs": [],
   "source": [
    "# --- Crude prevalence ---\n",
    "print(\"\\n--- Crude Prevalence of Hypertension ---\")\n",
    "total_patients = patients[\"Id\"].nunique()\n",
    "crude_prevalence = len(hypertensive_patients) / total_patients\n",
    "print(f\"Crude prevalence: {crude_prevalence:.2%}\")"
   ]
  },
  {
   "cell_type": "code",
   "execution_count": null,
   "id": "8e29a20c",
   "metadata": {
    "lines_to_next_cell": 2
   },
   "outputs": [],
   "source": [
    "# --- Adjusted prevalence ---\n",
    "print(\"\\n--- Adjusted Prevalence (Placeholder) ---\")\n",
    "print(\"Adjusted prevalence estimation requires UK population age distribution.\")"
   ]
  }
 ],
 "metadata": {
  "jupytext": {
   "cell_metadata_filter": "-all"
  },
  "kernelspec": {
   "display_name": "Python 3 (ipykernel)",
   "language": "python",
   "name": "python3"
  }
 },
 "nbformat": 4,
 "nbformat_minor": 5
}
