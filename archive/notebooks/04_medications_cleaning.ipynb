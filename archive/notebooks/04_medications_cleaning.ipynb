{
 "cells": [
  {
   "cell_type": "markdown",
   "id": "88baee3d",
   "metadata": {},
   "source": [
    "04_medications_cleaning.py"
   ]
  },
  {
   "cell_type": "code",
   "execution_count": null,
   "id": "646b8534",
   "metadata": {},
   "outputs": [],
   "source": [
    "import pandas as pd\n",
    "import numpy as np\n",
    "from pathlib import Path\n",
    "from IPython.display import display, Markdown\n",
    "import gzip"
   ]
  },
  {
   "cell_type": "code",
   "execution_count": null,
   "id": "5b19e0ca",
   "metadata": {
    "lines_to_next_cell": 1
   },
   "outputs": [],
   "source": [
    "# Configuration\n",
    "DATA_DIR = Path('data/original')\n",
    "OUTPUT_DIR = Path('data/processed')"
   ]
  },
  {
   "cell_type": "code",
   "execution_count": null,
   "id": "2a5ad945",
   "metadata": {
    "lines_to_next_cell": 1
   },
   "outputs": [],
   "source": [
    "def load_medications(meds_path, clean_patients_path):\n",
    "    # Load raw medications\n",
    "    medications = pd.read_csv(meds_path)\n",
    "    valid_patients = pd.read_csv(clean_patients_path)['id']\n",
    "\n",
    "    # Filter to valid patients\n",
    "    medications = medications[medications['PATIENT'].isin(valid_patients)]\n",
    "\n",
    "    # Normalize CODE field for matching\n",
    "    medications['CODE'] = pd.to_numeric(medications['CODE'], errors='coerce').dropna().astype(int).astype(str)\n",
    "\n",
    "    # Load and normalize RXNORM dictionary\n",
    "    rxnorm_codes = pd.read_csv(DATA_DIR / 'dictionary_rxnorm.csv')\n",
    "    rxnorm_codes['CODE'] = rxnorm_codes['CODE'].astype(str)\n",
    "\n",
    "    # Filter meds by valid RXNORM codes\n",
    "    valid_meds = medications[medications['CODE'].isin(rxnorm_codes['CODE'])]\n",
    "\n",
    "    return medications, valid_meds, rxnorm_codes"
   ]
  },
  {
   "cell_type": "code",
   "execution_count": null,
   "id": "5cd6ae57",
   "metadata": {
    "lines_to_next_cell": 2
   },
   "outputs": [],
   "source": [
    "if __name__ == \"__main__\":\n",
    "    raw_meds, valid_meds, rxnorm = load_medications(\n",
    "        DATA_DIR / 'medications.csv.gz',\n",
    "        OUTPUT_DIR / 'clean_patients.csv'\n",
    "    )\n",
    "\n",
    "    # Save cleaned output\n",
    "    valid_meds.to_csv(OUTPUT_DIR / 'clean_medications.csv', index=False)\n",
    "\n",
    "    # Reporting\n",
    "    display(Markdown(\"### Medications Cleaning Report\"))\n",
    "    print(f\"Total raw medications: {len(raw_meds)}\")\n",
    "    print(f\"Valid medications: {len(valid_meds)}\")\n",
    "    print(f\"Unique patients in meds: {raw_meds['PATIENT'].nunique()}\")\n",
    "    print(f\"Overlap with clean patients: {raw_meds['PATIENT'].isin(pd.read_csv(OUTPUT_DIR / 'clean_patients.csv')['id']).sum()}\")\n",
    "    print(f\"Unique RXNORM codes in meds: {raw_meds['CODE'].nunique()}\")\n",
    "    print(f\"Overlap with RXNORM dict: {valid_meds['CODE'].nunique()}\")"
   ]
  }
 ],
 "metadata": {
  "jupytext": {
   "cell_metadata_filter": "-all"
  },
  "kernelspec": {
   "display_name": "Python 3 (ipykernel)",
   "language": "python",
   "name": "python3"
  }
 },
 "nbformat": 4,
 "nbformat_minor": 5
}
