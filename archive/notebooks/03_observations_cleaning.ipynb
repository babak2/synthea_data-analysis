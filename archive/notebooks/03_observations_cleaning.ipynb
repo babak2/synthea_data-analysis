{
 "cells": [
  {
   "cell_type": "code",
   "execution_count": null,
   "id": "3324ba15",
   "metadata": {
    "lines_to_next_cell": 1
   },
   "outputs": [],
   "source": [
    "# 03_observations_cleaning.py\n",
    "\n",
    "import pandas as pd\n",
    "import numpy as np\n",
    "from pathlib import Path\n",
    "import gzip\n",
    "from IPython.display import display, Markdown\n",
    "import matplotlib.pyplot as plt\n",
    "\n",
    "DATA_DIR = Path('data/original')\n",
    "OUTPUT_DIR = Path('data/processed')"
   ]
  },
  {
   "cell_type": "code",
   "execution_count": null,
   "id": "8930a542",
   "metadata": {},
   "outputs": [],
   "source": [
    "# Key LOINC Codes for Analysis\n",
    "# - **Blood Pressure**: \n",
    "#   - Systolic: `8480-6`\n",
    "#   - Diastolic: `8462-4`  \n",
    "# - **BMI**: `39156-5`"
   ]
  },
  {
   "cell_type": "code",
   "execution_count": null,
   "id": "a0fec3e9",
   "metadata": {
    "lines_to_next_cell": 2
   },
   "outputs": [],
   "source": [
    "def clean_observations(obs_path, clean_patients_path):\n",
    "    \"\"\"\n",
    "    Cleans observations data with:\n",
    "    1. Patient linkage validation\n",
    "    2. LOINC code verification\n",
    "    3. Unit standardization\n",
    "    4. Range validation\n",
    "    \"\"\"\n",
    "    obs = pd.read_csv(obs_path)\n",
    "    valid_patients = pd.read_csv(clean_patients_path)['id']\n",
    "    \n",
    "    # 1. Patient linkage\n",
    "    obs = obs[obs['PATIENT'].isin(valid_patients)]\n",
    "    \n",
    "    # 2. LOINC validation\n",
    "    loinc_codes = pd.read_csv(DATA_DIR/'dictionary_loinc.csv')['CODE']\n",
    "    valid_obs = obs[obs['CODE'].isin(loinc_codes)].copy()  # Make sure it's a copy\n",
    "    \n",
    "    # 3. Numeric value extraction\n",
    "    valid_obs.loc[:, 'VALUE_NUM'] = pd.to_numeric(valid_obs['VALUE'], errors='coerce')\n",
    "    \n",
    "    # 4. Unit standardization\n",
    "    valid_obs.loc[:, 'UNITS'] = valid_obs['UNITS'].str.lower().str.strip()\n",
    "    \n",
    "    return valid_obs\n",
    "\n",
    "if __name__ == \"__main__\":\n",
    "    observations = clean_observations(\n",
    "        DATA_DIR/'observations.csv.gz',\n",
    "        OUTPUT_DIR/'clean_patients.csv'\n",
    "    )\n",
    "    \n",
    "    # Save outputs\n",
    "    observations.to_csv(OUTPUT_DIR/'clean_observations.csv', index=False)\n",
    "    \n",
    "    # Reporting\n",
    "    print(\"### Observations Cleaning Report\")\n",
    "    print(f\"Original observations: {len(pd.read_csv(DATA_DIR/'observations.csv.gz')):,}\")\n",
    "    print(f\"Valid observations: {len(observations):,}\")\n",
    "\n",
    "    # Blood Pressure stats\n",
    "    bp_codes = ['8480-6', '8462-4']\n",
    "    bp_data = observations[observations['CODE'].isin(bp_codes)]\n",
    "    print(f\"**Blood Pressure Records**: {len(bp_data):,}\")\n",
    "\n",
    "    \n",
    "\n"
   ]
  }
 ],
 "metadata": {
  "jupytext": {
   "cell_metadata_filter": "-all"
  },
  "kernelspec": {
   "display_name": "Python 3 (ipykernel)",
   "language": "python",
   "name": "python3"
  }
 },
 "nbformat": 4,
 "nbformat_minor": 5
}
