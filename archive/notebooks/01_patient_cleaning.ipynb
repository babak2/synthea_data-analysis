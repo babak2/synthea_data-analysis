{
 "cells": [
  {
   "cell_type": "code",
   "execution_count": null,
   "id": "7ca2177e",
   "metadata": {},
   "outputs": [],
   "source": [
    "# 01_patient_cleaning.py\n",
    "import pandas as pd\n",
    "import numpy as np\n",
    "import gzip\n",
    "from pathlib import Path"
   ]
  },
  {
   "cell_type": "code",
   "execution_count": null,
   "id": "55206bc9",
   "metadata": {
    "lines_to_next_cell": 1
   },
   "outputs": [],
   "source": [
    "# Configuration\n",
    "data_dir = Path('data/original')\n",
    "output_dir = Path('data/processed')\n",
    "output_dir.mkdir(exist_ok=True)\n",
    "VALID_AGE_RANGE = (0, 120)"
   ]
  },
  {
   "cell_type": "code",
   "execution_count": null,
   "id": "d84a2db8",
   "metadata": {
    "lines_to_next_cell": 1
   },
   "outputs": [],
   "source": [
    "def load_gzipped_csv(path):\n",
    "    with gzip.open(path, 'rb') as f:\n",
    "        return pd.read_csv(f)"
   ]
  },
  {
   "cell_type": "code",
   "execution_count": null,
   "id": "a7c4df7e",
   "metadata": {
    "lines_to_next_cell": 1
   },
   "outputs": [],
   "source": [
    "def clean_patients_data(patients):\n",
    "    patients.columns = patients.columns.str.lower()\n",
    "    \n",
    "    # Date handling\n",
    "    patients['birthdate'] = pd.to_datetime(patients['birthdate'], errors='coerce')\n",
    "    patients['age'] = (pd.to_datetime('today') - patients['birthdate']).dt.days / 365.25\n",
    "    \n",
    "    # Age validation\n",
    "    patients['age'] = np.where(\n",
    "        (patients['age'] < VALID_AGE_RANGE[0]) | (patients['age'] > VALID_AGE_RANGE[1]),\n",
    "        np.nan,\n",
    "        patients['age']\n",
    "    )\n",
    "    \n",
    "    # Demographics cleaning\n",
    "    patients['gender'] = patients['gender'].map({'M': 'M', 'F': 'F', '8293.3': np.nan})\n",
    "    \n",
    "    # Simplified race cleaning (since data is already clean)\n",
    "    patients['race'] = patients['race'].str.lower()\n",
    "    valid_races = ['white', 'black', 'asian', 'hawaiian', 'other', 'native']\n",
    "    patients['race'] = patients['race'].where(\n",
    "        patients['race'].isin(valid_races),  # Keep if valid\n",
    "        'other'  # Replace invalid values\n",
    "    )\n",
    "    \n",
    "    # Quality flags\n",
    "    patients['data_quality_flag'] = np.where(\n",
    "        patients[['birthdate', 'gender', 'age']].isna().any(axis=1),\n",
    "        'Invalid',\n",
    "        'Valid'\n",
    "    )\n",
    "    \n",
    "    return patients"
   ]
  },
  {
   "cell_type": "code",
   "execution_count": null,
   "id": "bac9ac83",
   "metadata": {
    "lines_to_next_cell": 1
   },
   "outputs": [],
   "source": [
    "def print_race_verification(patients, clean_patients):\n",
    "    print(\"\\n=== Race Distribution Verification ===\")\n",
    "    \n",
    "    # Get all unique original race values\n",
    "    print(\"\\nAll original race values:\")\n",
    "    print(np.sort(patients['race'].unique()))\n",
    "    \n",
    "    # Show cleaned distribution\n",
    "    print(\"\\nCleaned race categories with counts:\")\n",
    "    print(clean_patients['race'].value_counts())\n",
    "    \n",
    "    # Detailed breakdown\n",
    "    print(\"\\nOriginal -> Cleaned mapping examples:\")\n",
    "    for category in clean_patients['race'].unique():\n",
    "        original_values = patients.loc[patients['race'].str.lower() == category.lower(), 'race'].unique()\n",
    "        print(f\"\\n{category} (n={len(clean_patients[clean_patients['race'] == category])}):\")\n",
    "        print(f\"Original values: {original_values[:5]}\")  # Show first 5 examples\n",
    "        if category == 'other':\n",
    "            non_standard = patients[~patients['race'].str.lower().isin(\n",
    "                ['white','black','asian','hawaiian','native'])]['race'].unique()\n",
    "            print(f\"Non-standard values mapped to 'other': {non_standard}\")"
   ]
  },
  {
   "cell_type": "code",
   "execution_count": null,
   "id": "6ca5cb80",
   "metadata": {},
   "outputs": [],
   "source": [
    "if __name__ == \"__main__\":\n",
    "    # Load and clean\n",
    "    patients = load_gzipped_csv(data_dir / 'patients.csv.gz')\n",
    "    clean_patients = clean_patients_data(patients)\n",
    "    \n",
    "    # Split and save\n",
    "    valid_patients = clean_patients[clean_patients['data_quality_flag'] == 'Valid']\n",
    "    invalid_patients = clean_patients[clean_patients['data_quality_flag'] == 'Invalid']\n",
    "    \n",
    "    valid_patients.to_csv(output_dir / 'clean_patients.csv', index=False)\n",
    "    invalid_patients.to_csv(output_dir / 'excluded_patients.csv', index=False)\n",
    "    \n",
    "    # Reporting\n",
    "    print(\"\\n=== Final Cleaning Report ===\")\n",
    "    print(f\"Initial patients: {len(patients)}\")\n",
    "    print(f\"Valid patients: {len(valid_patients)} ({len(valid_patients)/len(patients):.1%})\")\n",
    "    print(f\"Excluded patients: {len(invalid_patients)}\")\n",
    "    \n",
    "    print(\"\\nFinal age distribution (years):\")\n",
    "    print(valid_patients['age'].describe())\n",
    "    \n",
    "    # Race verification\n",
    "    print_race_verification(patients, valid_patients)   "
   ]
  }
 ],
 "metadata": {
  "jupytext": {
   "cell_metadata_filter": "-all"
  },
  "kernelspec": {
   "display_name": "Python 3 (ipykernel)",
   "language": "python",
   "name": "python3"
  }
 },
 "nbformat": 4,
 "nbformat_minor": 5
}
