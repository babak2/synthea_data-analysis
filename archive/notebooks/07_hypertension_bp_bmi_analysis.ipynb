{
 "cells": [
  {
   "cell_type": "markdown",
   "id": "8502cd8c",
   "metadata": {},
   "source": [
    "07_hypertension_bp_bmi_analysis.py"
   ]
  },
  {
   "cell_type": "code",
   "execution_count": null,
   "id": "ff255ff6",
   "metadata": {},
   "outputs": [],
   "source": [
    "import pandas as pd\n",
    "import seaborn as sns\n",
    "import matplotlib.pyplot as plt"
   ]
  },
  {
   "cell_type": "code",
   "execution_count": null,
   "id": "6391af22",
   "metadata": {},
   "outputs": [],
   "source": [
    "# --- Load Data ---\n",
    "print(\"Loading data...\")\n",
    "conditions = pd.read_csv(\"data/original/conditions.csv.gz\")\n",
    "observations = pd.read_csv(\"data/original/observations.csv.gz\")"
   ]
  },
  {
   "cell_type": "code",
   "execution_count": null,
   "id": "c3e67057",
   "metadata": {},
   "outputs": [],
   "source": [
    "# --- Identify hypertensive patients ---\n",
    "print(\"Identifying hypertensive patients...\")\n",
    "hypertension_code = 59621000\n",
    "hypertension_patients = conditions[conditions['CODE'] == hypertension_code]['PATIENT'].unique()\n",
    "print(f\"Number of hypertensive patients: {len(hypertension_patients)}\")"
   ]
  },
  {
   "cell_type": "code",
   "execution_count": null,
   "id": "6be10747",
   "metadata": {},
   "outputs": [],
   "source": [
    "# --- Filter BP observations ---\n",
    "print(\"Filtering BP observations...\")\n",
    "bp_codes = ['8462-4', '8480-6']  # Diastolic, Systolic\n",
    "observations['VALUE'] = pd.to_numeric(observations['VALUE'], errors='coerce')\n",
    "bp_obs = observations[observations['CODE'].isin(bp_codes)]\n",
    "bp_obs_hyper = bp_obs[bp_obs['PATIENT'].isin(hypertension_patients)].copy()"
   ]
  },
  {
   "cell_type": "code",
   "execution_count": null,
   "id": "f26262ed",
   "metadata": {},
   "outputs": [],
   "source": [
    "# Pivot systolic/diastolic per patient-date-encounter\n",
    "bp_pivot = bp_obs_hyper.pivot_table(\n",
    "    index=['DATE', 'PATIENT', 'ENCOUNTER'],\n",
    "    columns='CODE',\n",
    "    values='VALUE'\n",
    ").reset_index().rename(columns={'8480-6': 'SYSTOLIC_BP', '8462-4': 'DIASTOLIC_BP'})\n",
    "print(f\"Blood pressure observations: {len(bp_pivot)}\")"
   ]
  },
  {
   "cell_type": "code",
   "execution_count": null,
   "id": "90c0c786",
   "metadata": {},
   "outputs": [],
   "source": [
    "# --- Filter BMI observations ---\n",
    "print(\"Filtering BMI observations...\")\n",
    "bmi_code = '39156-5'\n",
    "bmi_obs = observations[(observations['CODE'] == bmi_code) & (observations['PATIENT'].isin(hypertension_patients))]\n",
    "bmi_obs['VALUE'] = pd.to_numeric(bmi_obs['VALUE'], errors='coerce')\n",
    "print(f\"BMI observations: {len(bmi_obs)}\")"
   ]
  },
  {
   "cell_type": "code",
   "execution_count": null,
   "id": "4dc24dc0",
   "metadata": {},
   "outputs": [],
   "source": [
    "# --- Summary ---\n",
    "print(\"\\n--- Summary Statistics ---\")\n",
    "print(bp_pivot[['SYSTOLIC_BP', 'DIASTOLIC_BP']].describe())\n",
    "print(\"\\nBMI Summary:\")\n",
    "print(bmi_obs['VALUE'].describe())"
   ]
  },
  {
   "cell_type": "code",
   "execution_count": null,
   "id": "1de3a413",
   "metadata": {},
   "outputs": [],
   "source": [
    "# --- Plots ---\n",
    "plt.figure(figsize=(12, 5))\n",
    "sns.kdeplot(bp_pivot['SYSTOLIC_BP'].dropna(), label=\"Systolic\", fill=True)\n",
    "sns.kdeplot(bp_pivot['DIASTOLIC_BP'].dropna(), label=\"Diastolic\", fill=True)\n",
    "plt.title(\"Distribution of Blood Pressure (Hypertensive Patients)\")\n",
    "plt.xlabel(\"Blood Pressure (mmHg)\")\n",
    "plt.ylabel(\"Density\")\n",
    "plt.legend()\n",
    "plt.tight_layout()\n",
    "plt.show()"
   ]
  },
  {
   "cell_type": "code",
   "execution_count": null,
   "id": "ac8104ad",
   "metadata": {
    "lines_to_next_cell": 2
   },
   "outputs": [],
   "source": [
    "plt.figure(figsize=(8, 5))\n",
    "sns.kdeplot(bmi_obs['VALUE'].dropna(), label=\"BMI\", fill=True, color=\"purple\")\n",
    "plt.title(\"Distribution of BMI (Hypertensive Patients)\")\n",
    "plt.xlabel(\"BMI\")\n",
    "plt.ylabel(\"Density\")\n",
    "plt.tight_layout()\n",
    "plt.show()"
   ]
  }
 ],
 "metadata": {
  "jupytext": {
   "cell_metadata_filter": "-all"
  },
  "kernelspec": {
   "display_name": "Python 3 (ipykernel)",
   "language": "python",
   "name": "python3"
  }
 },
 "nbformat": 4,
 "nbformat_minor": 5
}
