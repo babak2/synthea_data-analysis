{
 "cells": [
  {
   "cell_type": "markdown",
   "id": "093e211b",
   "metadata": {},
   "source": [
    "08_compare_bp_bmi_hypertensive_vs_non.py"
   ]
  },
  {
   "cell_type": "code",
   "execution_count": null,
   "id": "24cd52e5",
   "metadata": {
    "lines_to_next_cell": 2
   },
   "outputs": [],
   "source": [
    "import pandas as pd\n",
    "import seaborn as sns\n",
    "import matplotlib.pyplot as plt\n",
    "from pathlib import Path\n",
    "import numpy as np"
   ]
  },
  {
   "cell_type": "code",
   "execution_count": null,
   "id": "416d3689",
   "metadata": {},
   "outputs": [],
   "source": [
    "# Configuration\n",
    "DATA_DIR = Path(\"data/original\")\n",
    "OUTPUT_DIR = Path(\"data/processed\")"
   ]
  },
  {
   "cell_type": "code",
   "execution_count": null,
   "id": "9c307db7",
   "metadata": {},
   "outputs": [],
   "source": [
    "# Load data\n",
    "print(\"Loading data...\")\n",
    "conditions = pd.read_csv(DATA_DIR / \"conditions.csv.gz\", compression=\"gzip\")\n",
    "observations = pd.read_csv(DATA_DIR / \"observations.csv.gz\", compression=\"gzip\")"
   ]
  },
  {
   "cell_type": "code",
   "execution_count": null,
   "id": "81c9eca9",
   "metadata": {},
   "outputs": [],
   "source": [
    "# Show a sample of the conditions DataFrame\n",
    "print(\"\\n--- Sample of Conditions DataFrame ---\")\n",
    "print(conditions.head())"
   ]
  },
  {
   "cell_type": "code",
   "execution_count": null,
   "id": "1c149fed",
   "metadata": {},
   "outputs": [],
   "source": [
    "# Ensure 'CODE' is string for comparison\n",
    "conditions[\"CODE\"] = conditions[\"CODE\"].astype(str).str.strip()"
   ]
  },
  {
   "cell_type": "code",
   "execution_count": null,
   "id": "5c21e52e",
   "metadata": {},
   "outputs": [],
   "source": [
    "# Hypertension SNOMED codes\n",
    "hypertensive_codes = [\"10509002.0\", \"283371005.0\", \"444814009.0\"]"
   ]
  },
  {
   "cell_type": "code",
   "execution_count": null,
   "id": "482c2001",
   "metadata": {},
   "outputs": [],
   "source": [
    "# Identify hypertensive patients\n",
    "print(\"\\nIdentifying hypertensive patients...\")\n",
    "hypertensive_patients = conditions[conditions[\"CODE\"].isin(hypertensive_codes)][\"PATIENT\"].unique()\n",
    "print(f\"Number of hypertensive patients: {len(hypertensive_patients)}\")"
   ]
  },
  {
   "cell_type": "code",
   "execution_count": null,
   "id": "f71b2b26",
   "metadata": {},
   "outputs": [],
   "source": [
    "# Filter for Systolic, Diastolic BP, and BMI\n",
    "systolic_code = \"8480-6\"\n",
    "diastolic_code = \"8462-4\"\n",
    "bmi_code = \"39156-5\""
   ]
  },
  {
   "cell_type": "code",
   "execution_count": null,
   "id": "a50cae39",
   "metadata": {},
   "outputs": [],
   "source": [
    "# Make sure 'CODE' is string in observations too\n",
    "observations[\"CODE\"] = observations[\"CODE\"].astype(str).str.strip()"
   ]
  },
  {
   "cell_type": "code",
   "execution_count": null,
   "id": "ac225387",
   "metadata": {},
   "outputs": [],
   "source": [
    "# Extract relevant observations\n",
    "bp_sys = observations[observations[\"CODE\"] == systolic_code][[\"PATIENT\", \"VALUE\"]].rename(columns={\"VALUE\": \"SYSTOLIC_BP\"})\n",
    "bp_dia = observations[observations[\"CODE\"] == diastolic_code][[\"PATIENT\", \"VALUE\"]].rename(columns={\"VALUE\": \"DIASTOLIC_BP\"})\n",
    "bmi = observations[observations[\"CODE\"] == bmi_code][[\"PATIENT\", \"VALUE\"]].rename(columns={\"VALUE\": \"BMI\"})"
   ]
  },
  {
   "cell_type": "code",
   "execution_count": null,
   "id": "365b6312",
   "metadata": {},
   "outputs": [],
   "source": [
    "# Merge BP readings\n",
    "bp = pd.merge(bp_sys, bp_dia, on=\"PATIENT\", how=\"inner\")"
   ]
  },
  {
   "cell_type": "code",
   "execution_count": null,
   "id": "2b5ef644",
   "metadata": {},
   "outputs": [],
   "source": [
    "# Merge with BMI\n",
    "bp_bmi = pd.merge(bp, bmi, on=\"PATIENT\", how=\"inner\")"
   ]
  },
  {
   "cell_type": "code",
   "execution_count": null,
   "id": "868f2ff8",
   "metadata": {},
   "outputs": [],
   "source": [
    "# Tag hypertensive vs non-hypertensive\n",
    "bp_bmi[\"HYPERTENSIVE\"] = bp_bmi[\"PATIENT\"].isin(hypertensive_patients)"
   ]
  },
  {
   "cell_type": "code",
   "execution_count": null,
   "id": "7e838e21",
   "metadata": {},
   "outputs": [],
   "source": [
    "# Convert columns to numeric, forcing errors to NaN\n",
    "bp_bmi[\"SYSTOLIC_BP\"] = pd.to_numeric(bp_bmi[\"SYSTOLIC_BP\"], errors='coerce')\n",
    "bp_bmi[\"DIASTOLIC_BP\"] = pd.to_numeric(bp_bmi[\"DIASTOLIC_BP\"], errors='coerce')\n",
    "bp_bmi[\"BMI\"] = pd.to_numeric(bp_bmi[\"BMI\"], errors='coerce')"
   ]
  },
  {
   "cell_type": "code",
   "execution_count": null,
   "id": "0cf35b33",
   "metadata": {},
   "outputs": [],
   "source": [
    "# Check shapes of the relevant data to ensure they are 1D\n",
    "print(\"\\n--- Checking Shapes of Data ---\")\n",
    "print(f\"Shape of Systolic BP: {bp_bmi['SYSTOLIC_BP'].dropna().shape}\")\n",
    "print(f\"Shape of BMI: {bp_bmi['BMI'].dropna().shape}\")"
   ]
  },
  {
   "cell_type": "code",
   "execution_count": null,
   "id": "76cacf98",
   "metadata": {},
   "outputs": [],
   "source": [
    "# Plotting\n",
    "# Ensure we pass numpy arrays for the KDE plot\n",
    "plt.figure(figsize=(14, 7))"
   ]
  },
  {
   "cell_type": "code",
   "execution_count": null,
   "id": "809ec27e",
   "metadata": {},
   "outputs": [],
   "source": [
    "# For faster plotting, sample a subset of data (e.g., 10% of the data)\n",
    "sample_size = 0.1\n",
    "hyper_sample = bp_bmi[bp_bmi[\"HYPERTENSIVE\"]].sample(frac=sample_size, random_state=42)\n",
    "nonhyper_sample = bp_bmi[~bp_bmi[\"HYPERTENSIVE\"]].sample(frac=sample_size, random_state=42)"
   ]
  },
  {
   "cell_type": "code",
   "execution_count": null,
   "id": "4654ea16",
   "metadata": {},
   "outputs": [],
   "source": [
    "# Convert the SYSTOLIC_BP column to a numpy array and flatten it\n",
    "hypertensive_systolic_bp = np.ravel(hyper_sample[\"SYSTOLIC_BP\"].dropna().values)\n",
    "non_hypertensive_systolic_bp = np.ravel(nonhyper_sample[\"SYSTOLIC_BP\"].dropna().values)"
   ]
  },
  {
   "cell_type": "code",
   "execution_count": null,
   "id": "414a8592",
   "metadata": {},
   "outputs": [],
   "source": [
    "# Plotting the density plots\n",
    "sns.kdeplot(hypertensive_systolic_bp, label=\"Hypertensive\", color=\"red\")\n",
    "sns.kdeplot(non_hypertensive_systolic_bp, label=\"Non-Hypertensive\", color=\"blue\")"
   ]
  },
  {
   "cell_type": "code",
   "execution_count": null,
   "id": "66150d4a",
   "metadata": {},
   "outputs": [],
   "source": [
    "plt.title(\"Systolic BP Distribution (Sampled Data)\")\n",
    "plt.xlabel(\"Systolic BP\")\n",
    "plt.ylabel(\"Density\")\n",
    "plt.legend()\n",
    "plt.tight_layout()\n",
    "plt.show()"
   ]
  },
  {
   "cell_type": "code",
   "execution_count": null,
   "id": "c9e7ac24",
   "metadata": {
    "lines_to_next_cell": 2
   },
   "outputs": [],
   "source": [
    "# BMI Plot\n",
    "plt.figure(figsize=(14, 7))\n",
    "sns.kdeplot(np.ravel(hyper_sample[\"BMI\"].dropna().values), label=\"Hypertensive\", color=\"red\")\n",
    "sns.kdeplot(np.ravel(nonhyper_sample[\"BMI\"].dropna().values), label=\"Non-Hypertensive\", color=\"blue\")\n",
    "plt.title(\"BMI Distribution (Sampled Data)\")\n",
    "plt.xlabel(\"BMI\")\n",
    "plt.ylabel(\"Density\")\n",
    "plt.legend()\n",
    "plt.tight_layout()\n",
    "plt.show()"
   ]
  }
 ],
 "metadata": {
  "jupytext": {
   "cell_metadata_filter": "-all"
  },
  "kernelspec": {
   "display_name": "Python 3 (ipykernel)",
   "language": "python",
   "name": "python3"
  }
 },
 "nbformat": 4,
 "nbformat_minor": 5
}
