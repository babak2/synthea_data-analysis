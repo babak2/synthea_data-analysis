{
 "cells": [
  {
   "cell_type": "markdown",
   "id": "070a9cc6",
   "metadata": {},
   "source": [
    "02_conditions_cleaning.py"
   ]
  },
  {
   "cell_type": "code",
   "execution_count": null,
   "id": "69164b57",
   "metadata": {},
   "outputs": [],
   "source": [
    "import pandas as pd\n",
    "import numpy as np\n",
    "from pathlib import Path\n",
    "import gzip\n",
    "from IPython.display import display, Markdown"
   ]
  },
  {
   "cell_type": "code",
   "execution_count": null,
   "id": "bdf99083",
   "metadata": {
    "lines_to_next_cell": 1
   },
   "outputs": [],
   "source": [
    "DATA_DIR = Path('data/original')\n",
    "OUTPUT_DIR = Path('data/processed')"
   ]
  },
  {
   "cell_type": "code",
   "execution_count": null,
   "id": "97c4d4be",
   "metadata": {},
   "outputs": [],
   "source": [
    "def load_conditions(conditions_path, clean_patients_path):\n",
    "    \"\"\"Load and validate conditions data\"\"\"\n",
    "    conditions = pd.read_csv(conditions_path)\n",
    "    valid_patients = pd.read_csv(clean_patients_path)['id']\n",
    "    \n",
    "    # QC Checks\n",
    "    conditions = conditions[conditions['PATIENT'].isin(valid_patients)]\n",
    "    conditions['START'] = pd.to_datetime(conditions['START'], errors='coerce')\n",
    "    \n",
    "    # SNOMED Validation\n",
    "    snomed_codes = pd.read_csv(DATA_DIR/'dictionary_snomed.csv')['CODE']\n",
    "    valid_conditions = conditions[conditions['CODE'].isin(snomed_codes)]\n",
    "    \n",
    "    return valid_conditions"
   ]
  },
  {
   "cell_type": "code",
   "execution_count": null,
   "id": "961716ed",
   "metadata": {},
   "outputs": [],
   "source": [
    "if __name__ == \"__main__\":\n",
    "    conditions = load_conditions(\n",
    "        DATA_DIR/'conditions.csv.gz',\n",
    "        OUTPUT_DIR/'clean_patients.csv'\n",
    "    )\n",
    "    \n",
    "    # Save results\n",
    "    conditions.to_csv(OUTPUT_DIR/'clean_conditions.csv', index=False)\n",
    "    \n",
    "    # Reporting\n",
    "    display(Markdown(\"### Conditions Cleaning Report\"))\n",
    "    display(f\"Initial conditions: {len(pd.read_csv(DATA_DIR/'conditions.csv.gz'))}\")\n",
    "    display(f\"Valid conditions: {len(conditions)}\")\n",
    "    display(f\"SNOMED codes: {conditions['CODE'].nunique()} unique codes\")"
   ]
  }
 ],
 "metadata": {
  "jupytext": {
   "cell_metadata_filter": "-all"
  },
  "kernelspec": {
   "display_name": "Python 3 (ipykernel)",
   "language": "python",
   "name": "python3"
  }
 },
 "nbformat": 4,
 "nbformat_minor": 5
}
