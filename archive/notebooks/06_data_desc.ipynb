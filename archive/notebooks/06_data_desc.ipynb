{
 "cells": [
  {
   "cell_type": "markdown",
   "id": "b2018526",
   "metadata": {},
   "source": [
    "06_data_desc.py"
   ]
  },
  {
   "cell_type": "code",
   "execution_count": null,
   "id": "b5e760d2",
   "metadata": {},
   "outputs": [],
   "source": [
    "import pandas as pd\n",
    "from pathlib import Path  # Make sure to import Path"
   ]
  },
  {
   "cell_type": "code",
   "execution_count": null,
   "id": "139e883d",
   "metadata": {},
   "outputs": [],
   "source": [
    "# Paths to cleaned data\n",
    "OUTPUT_DIR = Path('data/processed')\n",
    "clean_patients = pd.read_csv(OUTPUT_DIR / 'clean_patients.csv')\n",
    "clean_conditions = pd.read_csv(OUTPUT_DIR / 'clean_conditions.csv')\n",
    "clean_observations = pd.read_csv(OUTPUT_DIR / 'clean_observations.csv')\n",
    "clean_medications = pd.read_csv(OUTPUT_DIR / 'clean_medications.csv')\n",
    "clean_encounters = pd.read_csv(OUTPUT_DIR / 'clean_encounters.csv')"
   ]
  },
  {
   "cell_type": "code",
   "execution_count": null,
   "id": "d5092342",
   "metadata": {},
   "outputs": [],
   "source": [
    "# 1. Unique patients in each dataset\n",
    "print(f\"Unique patients in clean_patients: {clean_patients['id'].nunique()}\")\n",
    "print(f\"Unique patients in clean_conditions: {clean_conditions['PATIENT'].nunique()}\")\n",
    "print(f\"Unique patients in clean_observations: {clean_observations['PATIENT'].nunique()}\")\n",
    "print(f\"Unique patients in clean_medications: {clean_medications['PATIENT'].nunique()}\")\n",
    "print(f\"Unique patients in clean_encounters: {clean_encounters['PATIENT'].nunique()}\")"
   ]
  },
  {
   "cell_type": "code",
   "execution_count": null,
   "id": "ffaf6457",
   "metadata": {},
   "outputs": [],
   "source": [
    "# 2. Most frequent ontology terms (SNOMED, LOINC, RXNORM)\n",
    "# Conditions: SNOMED codes\n",
    "print(\"\\nMost frequent SNOMED codes in conditions:\")\n",
    "print(clean_conditions['CODE'].value_counts().head())"
   ]
  },
  {
   "cell_type": "code",
   "execution_count": null,
   "id": "3fbb51ca",
   "metadata": {},
   "outputs": [],
   "source": [
    "# Observations: LOINC codes\n",
    "print(\"\\nMost frequent LOINC codes in observations:\")\n",
    "print(clean_observations['CODE'].value_counts().head())"
   ]
  },
  {
   "cell_type": "code",
   "execution_count": null,
   "id": "21585aea",
   "metadata": {},
   "outputs": [],
   "source": [
    "# Medications: RXNORM codes\n",
    "print(\"\\nMost frequent RXNORM codes in medications:\")\n",
    "print(clean_medications['CODE'].value_counts().head())"
   ]
  },
  {
   "cell_type": "code",
   "execution_count": null,
   "id": "680aec26",
   "metadata": {},
   "outputs": [],
   "source": [
    "# 3. General stats (optional, you can expand with other metrics)\n",
    "print(\"\\nGeneral stats for cleaned data:\")"
   ]
  },
  {
   "cell_type": "code",
   "execution_count": null,
   "id": "ec38cb5c",
   "metadata": {},
   "outputs": [],
   "source": [
    "# Clean patients\n",
    "print(f\"\\nClean patients data summary:\\n{clean_patients.describe()}\")"
   ]
  },
  {
   "cell_type": "code",
   "execution_count": null,
   "id": "892f91ee",
   "metadata": {},
   "outputs": [],
   "source": [
    "# Clean conditions\n",
    "print(f\"\\nClean conditions data summary:\\n{clean_conditions.describe()}\")"
   ]
  },
  {
   "cell_type": "code",
   "execution_count": null,
   "id": "09adf668",
   "metadata": {},
   "outputs": [],
   "source": [
    "# Clean observations\n",
    "print(f\"\\nClean observations data summary:\\n{clean_observations.describe()}\")"
   ]
  },
  {
   "cell_type": "code",
   "execution_count": null,
   "id": "638c7476",
   "metadata": {},
   "outputs": [],
   "source": [
    "# Clean medications\n",
    "print(f\"\\nClean medications data summary:\\n{clean_medications.describe()}\")"
   ]
  },
  {
   "cell_type": "code",
   "execution_count": null,
   "id": "8944543c",
   "metadata": {
    "lines_to_next_cell": 2
   },
   "outputs": [],
   "source": [
    "# Clean encounters\n",
    "print(f\"\\nClean encounters data summary:\\n{clean_encounters.describe()}\")"
   ]
  }
 ],
 "metadata": {
  "jupytext": {
   "cell_metadata_filter": "-all"
  },
  "kernelspec": {
   "display_name": "Python 3 (ipykernel)",
   "language": "python",
   "name": "python3"
  }
 },
 "nbformat": 4,
 "nbformat_minor": 5
}
