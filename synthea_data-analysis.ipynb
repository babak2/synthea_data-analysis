{
 "cells": [
  {
   "cell_type": "code",
   "execution_count": null,
   "id": "7ca2177e",
   "metadata": {},
   "outputs": [],
   "source": [
    "# 01_patient_cleaning.py\n",
    "import pandas as pd\n",
    "import numpy as np\n",
    "import gzip\n",
    "from pathlib import Path"
   ]
  },
  {
   "cell_type": "code",
   "execution_count": null,
   "id": "55206bc9",
   "metadata": {
    "lines_to_next_cell": 1
   },
   "outputs": [],
   "source": [
    "# Configuration\n",
    "data_dir = Path('data/original')\n",
    "output_dir = Path('data/processed')\n",
    "output_dir.mkdir(exist_ok=True)\n",
    "VALID_AGE_RANGE = (0, 120)"
   ]
  },
  {
   "cell_type": "code",
   "execution_count": null,
   "id": "d84a2db8",
   "metadata": {
    "lines_to_next_cell": 1
   },
   "outputs": [],
   "source": [
    "def load_gzipped_csv(path):\n",
    "    with gzip.open(path, 'rb') as f:\n",
    "        return pd.read_csv(f)"
   ]
  },
  {
   "cell_type": "code",
   "execution_count": null,
   "id": "a7c4df7e",
   "metadata": {
    "lines_to_next_cell": 1
   },
   "outputs": [],
   "source": [
    "def clean_patients_data(patients):\n",
    "    patients.columns = patients.columns.str.lower()\n",
    "    \n",
    "    # Date handling\n",
    "    patients['birthdate'] = pd.to_datetime(patients['birthdate'], errors='coerce')\n",
    "    patients['age'] = (pd.to_datetime('today') - patients['birthdate']).dt.days / 365.25\n",
    "    \n",
    "    # Age validation\n",
    "    patients['age'] = np.where(\n",
    "        (patients['age'] < VALID_AGE_RANGE[0]) | (patients['age'] > VALID_AGE_RANGE[1]),\n",
    "        np.nan,\n",
    "        patients['age']\n",
    "    )\n",
    "    \n",
    "    # Demographics cleaning\n",
    "    patients['gender'] = patients['gender'].map({'M': 'M', 'F': 'F', '8293.3': np.nan})\n",
    "    \n",
    "    # Simplified race cleaning (since data is already clean)\n",
    "    patients['race'] = patients['race'].str.lower()\n",
    "    valid_races = ['white', 'black', 'asian', 'hawaiian', 'other', 'native']\n",
    "    patients['race'] = patients['race'].where(\n",
    "        patients['race'].isin(valid_races),  # Keep if valid\n",
    "        'other'  # Replace invalid values\n",
    "    )\n",
    "    \n",
    "    # Quality flags\n",
    "    patients['data_quality_flag'] = np.where(\n",
    "        patients[['birthdate', 'gender', 'age']].isna().any(axis=1),\n",
    "        'Invalid',\n",
    "        'Valid'\n",
    "    )\n",
    "    \n",
    "    return patients"
   ]
  },
  {
   "cell_type": "code",
   "execution_count": null,
   "id": "bac9ac83",
   "metadata": {
    "lines_to_next_cell": 1
   },
   "outputs": [],
   "source": [
    "def print_race_verification(patients, clean_patients):\n",
    "    print(\"\\n=== Race Distribution Verification ===\")\n",
    "    \n",
    "    # Get all unique original race values\n",
    "    print(\"\\nAll original race values:\")\n",
    "    print(np.sort(patients['race'].unique()))\n",
    "    \n",
    "    # Show cleaned distribution\n",
    "    print(\"\\nCleaned race categories with counts:\")\n",
    "    print(clean_patients['race'].value_counts())\n",
    "    \n",
    "    # Detailed breakdown\n",
    "    print(\"\\nOriginal -> Cleaned mapping examples:\")\n",
    "    for category in clean_patients['race'].unique():\n",
    "        original_values = patients.loc[patients['race'].str.lower() == category.lower(), 'race'].unique()\n",
    "        print(f\"\\n{category} (n={len(clean_patients[clean_patients['race'] == category])}):\")\n",
    "        print(f\"Original values: {original_values[:5]}\")  # Show first 5 examples\n",
    "        if category == 'other':\n",
    "            non_standard = patients[~patients['race'].str.lower().isin(\n",
    "                ['white','black','asian','hawaiian','native'])]['race'].unique()\n",
    "            print(f\"Non-standard values mapped to 'other': {non_standard}\")"
   ]
  },
  {
   "cell_type": "code",
   "execution_count": null,
   "id": "6ca5cb80",
   "metadata": {},
   "outputs": [],
   "source": [
    "if __name__ == \"__main__\":\n",
    "    # Load and clean\n",
    "    patients = load_gzipped_csv(data_dir / 'patients.csv.gz')\n",
    "    clean_patients = clean_patients_data(patients)\n",
    "    \n",
    "    # Split and save\n",
    "    valid_patients = clean_patients[clean_patients['data_quality_flag'] == 'Valid']\n",
    "    invalid_patients = clean_patients[clean_patients['data_quality_flag'] == 'Invalid']\n",
    "    \n",
    "    valid_patients.to_csv(output_dir / 'clean_patients.csv', index=False)\n",
    "    invalid_patients.to_csv(output_dir / 'excluded_patients.csv', index=False)\n",
    "    \n",
    "    # Reporting\n",
    "    print(\"\\n=== Final Cleaning Report ===\")\n",
    "    print(f\"Initial patients: {len(patients)}\")\n",
    "    print(f\"Valid patients: {len(valid_patients)} ({len(valid_patients)/len(patients):.1%})\")\n",
    "    print(f\"Excluded patients: {len(invalid_patients)}\")\n",
    "    \n",
    "    print(\"\\nFinal age distribution (years):\")\n",
    "    print(valid_patients['age'].describe())\n",
    "    \n",
    "    # Race verification\n",
    "    print_race_verification(patients, valid_patients)   "
   ]
  },
  {
   "cell_type": "markdown",
   "id": "070a9cc6",
   "metadata": {},
   "source": [
    "02_conditions_cleaning.py"
   ]
  },
  {
   "cell_type": "code",
   "execution_count": null,
   "id": "69164b57",
   "metadata": {},
   "outputs": [],
   "source": [
    "import pandas as pd\n",
    "import numpy as np\n",
    "from pathlib import Path\n",
    "import gzip\n",
    "from IPython.display import display, Markdown"
   ]
  },
  {
   "cell_type": "code",
   "execution_count": null,
   "id": "bdf99083",
   "metadata": {
    "lines_to_next_cell": 1
   },
   "outputs": [],
   "source": [
    "DATA_DIR = Path('data/original')\n",
    "OUTPUT_DIR = Path('data/processed')"
   ]
  },
  {
   "cell_type": "code",
   "execution_count": null,
   "id": "97c4d4be",
   "metadata": {},
   "outputs": [],
   "source": [
    "def load_conditions(conditions_path, clean_patients_path):\n",
    "    \"\"\"Load and validate conditions data\"\"\"\n",
    "    conditions = pd.read_csv(conditions_path)\n",
    "    valid_patients = pd.read_csv(clean_patients_path)['id']\n",
    "    \n",
    "    # QC Checks\n",
    "    conditions = conditions[conditions['PATIENT'].isin(valid_patients)]\n",
    "    conditions['START'] = pd.to_datetime(conditions['START'], errors='coerce')\n",
    "    \n",
    "    # SNOMED Validation\n",
    "    snomed_codes = pd.read_csv(DATA_DIR/'dictionary_snomed.csv')['CODE']\n",
    "    valid_conditions = conditions[conditions['CODE'].isin(snomed_codes)]\n",
    "    \n",
    "    return valid_conditions"
   ]
  },
  {
   "cell_type": "code",
   "execution_count": null,
   "id": "961716ed",
   "metadata": {},
   "outputs": [],
   "source": [
    "if __name__ == \"__main__\":\n",
    "    conditions = load_conditions(\n",
    "        DATA_DIR/'conditions.csv.gz',\n",
    "        OUTPUT_DIR/'clean_patients.csv'\n",
    "    )\n",
    "    \n",
    "    # Save results\n",
    "    conditions.to_csv(OUTPUT_DIR/'clean_conditions.csv', index=False)\n",
    "    \n",
    "    # Reporting\n",
    "    display(Markdown(\"### Conditions Cleaning Report\"))\n",
    "    display(f\"Initial conditions: {len(pd.read_csv(DATA_DIR/'conditions.csv.gz'))}\")\n",
    "    display(f\"Valid conditions: {len(conditions)}\")\n",
    "    display(f\"SNOMED codes: {conditions['CODE'].nunique()} unique codes\")"
   ]
  },
  {
   "cell_type": "code",
   "execution_count": null,
   "id": "3324ba15",
   "metadata": {
    "lines_to_next_cell": 1
   },
   "outputs": [],
   "source": [
    "# 03_observations_cleaning.py\n",
    "\n",
    "import pandas as pd\n",
    "import numpy as np\n",
    "from pathlib import Path\n",
    "import gzip\n",
    "from IPython.display import display, Markdown\n",
    "import matplotlib.pyplot as plt\n",
    "\n",
    "DATA_DIR = Path('data/original')\n",
    "OUTPUT_DIR = Path('data/processed')"
   ]
  },
  {
   "cell_type": "code",
   "execution_count": null,
   "id": "8930a542",
   "metadata": {},
   "outputs": [],
   "source": [
    "# Key LOINC Codes for Analysis\n",
    "# - **Blood Pressure**: \n",
    "#   - Systolic: `8480-6`\n",
    "#   - Diastolic: `8462-4`  \n",
    "# - **BMI**: `39156-5`"
   ]
  },
  {
   "cell_type": "code",
   "execution_count": null,
   "id": "a0fec3e9",
   "metadata": {
    "lines_to_next_cell": 2
   },
   "outputs": [],
   "source": [
    "def clean_observations(obs_path, clean_patients_path):\n",
    "    \"\"\"\n",
    "    Cleans observations data with:\n",
    "    1. Patient linkage validation\n",
    "    2. LOINC code verification\n",
    "    3. Unit standardization\n",
    "    4. Range validation\n",
    "    \"\"\"\n",
    "    obs = pd.read_csv(obs_path)\n",
    "    valid_patients = pd.read_csv(clean_patients_path)['id']\n",
    "    \n",
    "    # 1. Patient linkage\n",
    "    obs = obs[obs['PATIENT'].isin(valid_patients)]\n",
    "    \n",
    "    # 2. LOINC validation\n",
    "    loinc_codes = pd.read_csv(DATA_DIR/'dictionary_loinc.csv')['CODE']\n",
    "    valid_obs = obs[obs['CODE'].isin(loinc_codes)].copy()  # Make sure it's a copy\n",
    "    \n",
    "    # 3. Numeric value extraction\n",
    "    valid_obs.loc[:, 'VALUE_NUM'] = pd.to_numeric(valid_obs['VALUE'], errors='coerce')\n",
    "    \n",
    "    # 4. Unit standardization\n",
    "    valid_obs.loc[:, 'UNITS'] = valid_obs['UNITS'].str.lower().str.strip()\n",
    "    \n",
    "    return valid_obs\n",
    "\n",
    "if __name__ == \"__main__\":\n",
    "    observations = clean_observations(\n",
    "        DATA_DIR/'observations.csv.gz',\n",
    "        OUTPUT_DIR/'clean_patients.csv'\n",
    "    )\n",
    "    \n",
    "    # Save outputs\n",
    "    observations.to_csv(OUTPUT_DIR/'clean_observations.csv', index=False)\n",
    "    \n",
    "    # Reporting\n",
    "    print(\"### Observations Cleaning Report\")\n",
    "    print(f\"Original observations: {len(pd.read_csv(DATA_DIR/'observations.csv.gz')):,}\")\n",
    "    print(f\"Valid observations: {len(observations):,}\")\n",
    "\n",
    "    # Blood Pressure stats\n",
    "    bp_codes = ['8480-6', '8462-4']\n",
    "    bp_data = observations[observations['CODE'].isin(bp_codes)]\n",
    "    print(f\"**Blood Pressure Records**: {len(bp_data):,}\")\n",
    "\n",
    "    \n",
    "\n"
   ]
  },
  {
   "cell_type": "markdown",
   "id": "88baee3d",
   "metadata": {},
   "source": [
    "04_medications_cleaning.py"
   ]
  },
  {
   "cell_type": "code",
   "execution_count": null,
   "id": "646b8534",
   "metadata": {},
   "outputs": [],
   "source": [
    "import pandas as pd\n",
    "import numpy as np\n",
    "from pathlib import Path\n",
    "from IPython.display import display, Markdown\n",
    "import gzip"
   ]
  },
  {
   "cell_type": "code",
   "execution_count": null,
   "id": "5b19e0ca",
   "metadata": {
    "lines_to_next_cell": 1
   },
   "outputs": [],
   "source": [
    "# Configuration\n",
    "DATA_DIR = Path('data/original')\n",
    "OUTPUT_DIR = Path('data/processed')"
   ]
  },
  {
   "cell_type": "code",
   "execution_count": null,
   "id": "2a5ad945",
   "metadata": {
    "lines_to_next_cell": 1
   },
   "outputs": [],
   "source": [
    "def load_medications(meds_path, clean_patients_path):\n",
    "    # Load raw medications\n",
    "    medications = pd.read_csv(meds_path)\n",
    "    valid_patients = pd.read_csv(clean_patients_path)['id']\n",
    "\n",
    "    # Filter to valid patients\n",
    "    medications = medications[medications['PATIENT'].isin(valid_patients)]\n",
    "\n",
    "    # Normalize CODE field for matching\n",
    "    medications['CODE'] = pd.to_numeric(medications['CODE'], errors='coerce').dropna().astype(int).astype(str)\n",
    "\n",
    "    # Load and normalize RXNORM dictionary\n",
    "    rxnorm_codes = pd.read_csv(DATA_DIR / 'dictionary_rxnorm.csv')\n",
    "    rxnorm_codes['CODE'] = rxnorm_codes['CODE'].astype(str)\n",
    "\n",
    "    # Filter meds by valid RXNORM codes\n",
    "    valid_meds = medications[medications['CODE'].isin(rxnorm_codes['CODE'])]\n",
    "\n",
    "    return medications, valid_meds, rxnorm_codes"
   ]
  },
  {
   "cell_type": "code",
   "execution_count": null,
   "id": "5cd6ae57",
   "metadata": {
    "lines_to_next_cell": 2
   },
   "outputs": [],
   "source": [
    "if __name__ == \"__main__\":\n",
    "    raw_meds, valid_meds, rxnorm = load_medications(\n",
    "        DATA_DIR / 'medications.csv.gz',\n",
    "        OUTPUT_DIR / 'clean_patients.csv'\n",
    "    )\n",
    "\n",
    "    # Save cleaned output\n",
    "    valid_meds.to_csv(OUTPUT_DIR / 'clean_medications.csv', index=False)\n",
    "\n",
    "    # Reporting\n",
    "    display(Markdown(\"### Medications Cleaning Report\"))\n",
    "    print(f\"Total raw medications: {len(raw_meds)}\")\n",
    "    print(f\"Valid medications: {len(valid_meds)}\")\n",
    "    print(f\"Unique patients in meds: {raw_meds['PATIENT'].nunique()}\")\n",
    "    print(f\"Overlap with clean patients: {raw_meds['PATIENT'].isin(pd.read_csv(OUTPUT_DIR / 'clean_patients.csv')['id']).sum()}\")\n",
    "    print(f\"Unique RXNORM codes in meds: {raw_meds['CODE'].nunique()}\")\n",
    "    print(f\"Overlap with RXNORM dict: {valid_meds['CODE'].nunique()}\")"
   ]
  },
  {
   "cell_type": "markdown",
   "id": "ad77eff8",
   "metadata": {},
   "source": [
    "05_encounters_cleaning.py"
   ]
  },
  {
   "cell_type": "code",
   "execution_count": null,
   "id": "24eefa40",
   "metadata": {},
   "outputs": [],
   "source": [
    "import pandas as pd\n",
    "import numpy as np\n",
    "from pathlib import Path\n",
    "import gzip"
   ]
  },
  {
   "cell_type": "code",
   "execution_count": null,
   "id": "70610f70",
   "metadata": {
    "lines_to_next_cell": 1
   },
   "outputs": [],
   "source": [
    "# Configuration\n",
    "DATA_DIR = Path('data/original')\n",
    "OUTPUT_DIR = Path('data/processed')"
   ]
  },
  {
   "cell_type": "code",
   "execution_count": null,
   "id": "1c52ed79",
   "metadata": {
    "lines_to_next_cell": 1
   },
   "outputs": [],
   "source": [
    "def load_encounters(encounters_path, clean_patients_path):\n",
    "    \"\"\"Load and validate encounters data\"\"\"\n",
    "    encounters = pd.read_csv(encounters_path)\n",
    "    valid_patients = pd.read_csv(clean_patients_path)['id']\n",
    "    \n",
    "    # QC: Filter encounters with valid patient IDs\n",
    "    encounters = encounters[encounters['PATIENT'].isin(valid_patients)]\n",
    "    \n",
    "    # Handle date columns: Convert to datetime, coerce errors\n",
    "    encounters['START'] = pd.to_datetime(encounters['START'], errors='coerce')\n",
    "    encounters['STOP'] = pd.to_datetime(encounters['STOP'], errors='coerce')\n",
    "    \n",
    "    # Filter out any rows with invalid dates or missing key fields\n",
    "    encounters = encounters.dropna(subset=['PATIENT', 'START'])\n",
    "    \n",
    "    # Add any additional cleaning logic based on specific encounter attributes\n",
    "    return encounters"
   ]
  },
  {
   "cell_type": "code",
   "execution_count": null,
   "id": "eac636e7",
   "metadata": {
    "lines_to_next_cell": 2
   },
   "outputs": [],
   "source": [
    "if __name__ == \"__main__\":\n",
    "    encounters = load_encounters(\n",
    "        DATA_DIR/'encounters.csv.gz',\n",
    "        OUTPUT_DIR/'clean_patients.csv'\n",
    "    )\n",
    "    \n",
    "    # Save cleaned encounters data\n",
    "    encounters.to_csv(OUTPUT_DIR/'clean_encounters.csv', index=False)\n",
    "    \n",
    "    # Reporting\n",
    "    print(f\"Initial encounters: {len(pd.read_csv(DATA_DIR/'encounters.csv.gz'))}\")\n",
    "    print(f\"Valid encounters: {len(encounters)}\")\n",
    "    print(f\"Unique patients in encounters: {encounters['PATIENT'].nunique()}\")"
   ]
  },
  {
   "cell_type": "markdown",
   "id": "b2018526",
   "metadata": {},
   "source": [
    "06_data_desc.py"
   ]
  },
  {
   "cell_type": "code",
   "execution_count": null,
   "id": "b5e760d2",
   "metadata": {},
   "outputs": [],
   "source": [
    "import pandas as pd\n",
    "from pathlib import Path  # Make sure to import Path"
   ]
  },
  {
   "cell_type": "code",
   "execution_count": null,
   "id": "139e883d",
   "metadata": {},
   "outputs": [],
   "source": [
    "# Paths to cleaned data\n",
    "OUTPUT_DIR = Path('data/processed')\n",
    "clean_patients = pd.read_csv(OUTPUT_DIR / 'clean_patients.csv')\n",
    "clean_conditions = pd.read_csv(OUTPUT_DIR / 'clean_conditions.csv')\n",
    "clean_observations = pd.read_csv(OUTPUT_DIR / 'clean_observations.csv')\n",
    "clean_medications = pd.read_csv(OUTPUT_DIR / 'clean_medications.csv')\n",
    "clean_encounters = pd.read_csv(OUTPUT_DIR / 'clean_encounters.csv')"
   ]
  },
  {
   "cell_type": "code",
   "execution_count": null,
   "id": "d5092342",
   "metadata": {},
   "outputs": [],
   "source": [
    "# 1. Unique patients in each dataset\n",
    "print(f\"Unique patients in clean_patients: {clean_patients['id'].nunique()}\")\n",
    "print(f\"Unique patients in clean_conditions: {clean_conditions['PATIENT'].nunique()}\")\n",
    "print(f\"Unique patients in clean_observations: {clean_observations['PATIENT'].nunique()}\")\n",
    "print(f\"Unique patients in clean_medications: {clean_medications['PATIENT'].nunique()}\")\n",
    "print(f\"Unique patients in clean_encounters: {clean_encounters['PATIENT'].nunique()}\")"
   ]
  },
  {
   "cell_type": "code",
   "execution_count": null,
   "id": "ffaf6457",
   "metadata": {},
   "outputs": [],
   "source": [
    "# 2. Most frequent ontology terms (SNOMED, LOINC, RXNORM)\n",
    "# Conditions: SNOMED codes\n",
    "print(\"\\nMost frequent SNOMED codes in conditions:\")\n",
    "print(clean_conditions['CODE'].value_counts().head())"
   ]
  },
  {
   "cell_type": "code",
   "execution_count": null,
   "id": "3fbb51ca",
   "metadata": {},
   "outputs": [],
   "source": [
    "# Observations: LOINC codes\n",
    "print(\"\\nMost frequent LOINC codes in observations:\")\n",
    "print(clean_observations['CODE'].value_counts().head())"
   ]
  },
  {
   "cell_type": "code",
   "execution_count": null,
   "id": "21585aea",
   "metadata": {},
   "outputs": [],
   "source": [
    "# Medications: RXNORM codes\n",
    "print(\"\\nMost frequent RXNORM codes in medications:\")\n",
    "print(clean_medications['CODE'].value_counts().head())"
   ]
  },
  {
   "cell_type": "code",
   "execution_count": null,
   "id": "680aec26",
   "metadata": {},
   "outputs": [],
   "source": [
    "# 3. General stats (optional, you can expand with other metrics)\n",
    "print(\"\\nGeneral stats for cleaned data:\")"
   ]
  },
  {
   "cell_type": "code",
   "execution_count": null,
   "id": "ec38cb5c",
   "metadata": {},
   "outputs": [],
   "source": [
    "# Clean patients\n",
    "print(f\"\\nClean patients data summary:\\n{clean_patients.describe()}\")"
   ]
  },
  {
   "cell_type": "code",
   "execution_count": null,
   "id": "892f91ee",
   "metadata": {},
   "outputs": [],
   "source": [
    "# Clean conditions\n",
    "print(f\"\\nClean conditions data summary:\\n{clean_conditions.describe()}\")"
   ]
  },
  {
   "cell_type": "code",
   "execution_count": null,
   "id": "09adf668",
   "metadata": {},
   "outputs": [],
   "source": [
    "# Clean observations\n",
    "print(f\"\\nClean observations data summary:\\n{clean_observations.describe()}\")"
   ]
  },
  {
   "cell_type": "code",
   "execution_count": null,
   "id": "638c7476",
   "metadata": {},
   "outputs": [],
   "source": [
    "# Clean medications\n",
    "print(f\"\\nClean medications data summary:\\n{clean_medications.describe()}\")"
   ]
  },
  {
   "cell_type": "code",
   "execution_count": null,
   "id": "8944543c",
   "metadata": {
    "lines_to_next_cell": 2
   },
   "outputs": [],
   "source": [
    "# Clean encounters\n",
    "print(f\"\\nClean encounters data summary:\\n{clean_encounters.describe()}\")"
   ]
  },
  {
   "cell_type": "markdown",
   "id": "8502cd8c",
   "metadata": {},
   "source": [
    "07_hypertension_bp_bmi_analysis.py"
   ]
  },
  {
   "cell_type": "code",
   "execution_count": null,
   "id": "ff255ff6",
   "metadata": {},
   "outputs": [],
   "source": [
    "import pandas as pd\n",
    "import seaborn as sns\n",
    "import matplotlib.pyplot as plt"
   ]
  },
  {
   "cell_type": "code",
   "execution_count": null,
   "id": "6391af22",
   "metadata": {},
   "outputs": [],
   "source": [
    "# --- Load Data ---\n",
    "print(\"Loading data...\")\n",
    "conditions = pd.read_csv(\"data/original/conditions.csv.gz\")\n",
    "observations = pd.read_csv(\"data/original/observations.csv.gz\")"
   ]
  },
  {
   "cell_type": "code",
   "execution_count": null,
   "id": "c3e67057",
   "metadata": {},
   "outputs": [],
   "source": [
    "# --- Identify hypertensive patients ---\n",
    "print(\"Identifying hypertensive patients...\")\n",
    "hypertension_code = 59621000\n",
    "hypertension_patients = conditions[conditions['CODE'] == hypertension_code]['PATIENT'].unique()\n",
    "print(f\"Number of hypertensive patients: {len(hypertension_patients)}\")"
   ]
  },
  {
   "cell_type": "code",
   "execution_count": null,
   "id": "6be10747",
   "metadata": {},
   "outputs": [],
   "source": [
    "# --- Filter BP observations ---\n",
    "print(\"Filtering BP observations...\")\n",
    "bp_codes = ['8462-4', '8480-6']  # Diastolic, Systolic\n",
    "observations['VALUE'] = pd.to_numeric(observations['VALUE'], errors='coerce')\n",
    "bp_obs = observations[observations['CODE'].isin(bp_codes)]\n",
    "bp_obs_hyper = bp_obs[bp_obs['PATIENT'].isin(hypertension_patients)].copy()"
   ]
  },
  {
   "cell_type": "code",
   "execution_count": null,
   "id": "f26262ed",
   "metadata": {},
   "outputs": [],
   "source": [
    "# Pivot systolic/diastolic per patient-date-encounter\n",
    "bp_pivot = bp_obs_hyper.pivot_table(\n",
    "    index=['DATE', 'PATIENT', 'ENCOUNTER'],\n",
    "    columns='CODE',\n",
    "    values='VALUE'\n",
    ").reset_index().rename(columns={'8480-6': 'SYSTOLIC_BP', '8462-4': 'DIASTOLIC_BP'})\n",
    "print(f\"Blood pressure observations: {len(bp_pivot)}\")"
   ]
  },
  {
   "cell_type": "code",
   "execution_count": null,
   "id": "90c0c786",
   "metadata": {},
   "outputs": [],
   "source": [
    "# --- Filter BMI observations ---\n",
    "print(\"Filtering BMI observations...\")\n",
    "bmi_code = '39156-5'\n",
    "bmi_obs = observations[(observations['CODE'] == bmi_code) & (observations['PATIENT'].isin(hypertension_patients))]\n",
    "bmi_obs['VALUE'] = pd.to_numeric(bmi_obs['VALUE'], errors='coerce')\n",
    "print(f\"BMI observations: {len(bmi_obs)}\")"
   ]
  },
  {
   "cell_type": "code",
   "execution_count": null,
   "id": "4dc24dc0",
   "metadata": {},
   "outputs": [],
   "source": [
    "# --- Summary ---\n",
    "print(\"\\n--- Summary Statistics ---\")\n",
    "print(bp_pivot[['SYSTOLIC_BP', 'DIASTOLIC_BP']].describe())\n",
    "print(\"\\nBMI Summary:\")\n",
    "print(bmi_obs['VALUE'].describe())"
   ]
  },
  {
   "cell_type": "code",
   "execution_count": null,
   "id": "1de3a413",
   "metadata": {},
   "outputs": [],
   "source": [
    "# --- Plots ---\n",
    "plt.figure(figsize=(12, 5))\n",
    "sns.kdeplot(bp_pivot['SYSTOLIC_BP'].dropna(), label=\"Systolic\", fill=True)\n",
    "sns.kdeplot(bp_pivot['DIASTOLIC_BP'].dropna(), label=\"Diastolic\", fill=True)\n",
    "plt.title(\"Distribution of Blood Pressure (Hypertensive Patients)\")\n",
    "plt.xlabel(\"Blood Pressure (mmHg)\")\n",
    "plt.ylabel(\"Density\")\n",
    "plt.legend()\n",
    "plt.tight_layout()\n",
    "plt.show()"
   ]
  },
  {
   "cell_type": "code",
   "execution_count": null,
   "id": "ac8104ad",
   "metadata": {
    "lines_to_next_cell": 2
   },
   "outputs": [],
   "source": [
    "plt.figure(figsize=(8, 5))\n",
    "sns.kdeplot(bmi_obs['VALUE'].dropna(), label=\"BMI\", fill=True, color=\"purple\")\n",
    "plt.title(\"Distribution of BMI (Hypertensive Patients)\")\n",
    "plt.xlabel(\"BMI\")\n",
    "plt.ylabel(\"Density\")\n",
    "plt.tight_layout()\n",
    "plt.show()"
   ]
  },
  {
   "cell_type": "markdown",
   "id": "093e211b",
   "metadata": {},
   "source": [
    "08_compare_bp_bmi_hypertensive_vs_non.py"
   ]
  },
  {
   "cell_type": "code",
   "execution_count": null,
   "id": "24cd52e5",
   "metadata": {
    "lines_to_next_cell": 2
   },
   "outputs": [],
   "source": [
    "import pandas as pd\n",
    "import seaborn as sns\n",
    "import matplotlib.pyplot as plt\n",
    "from pathlib import Path\n",
    "import numpy as np"
   ]
  },
  {
   "cell_type": "code",
   "execution_count": null,
   "id": "416d3689",
   "metadata": {},
   "outputs": [],
   "source": [
    "# Configuration\n",
    "DATA_DIR = Path(\"data/original\")\n",
    "OUTPUT_DIR = Path(\"data/processed\")"
   ]
  },
  {
   "cell_type": "code",
   "execution_count": null,
   "id": "9c307db7",
   "metadata": {},
   "outputs": [],
   "source": [
    "# Load data\n",
    "print(\"Loading data...\")\n",
    "conditions = pd.read_csv(DATA_DIR / \"conditions.csv.gz\", compression=\"gzip\")\n",
    "observations = pd.read_csv(DATA_DIR / \"observations.csv.gz\", compression=\"gzip\")"
   ]
  },
  {
   "cell_type": "code",
   "execution_count": null,
   "id": "81c9eca9",
   "metadata": {},
   "outputs": [],
   "source": [
    "# Show a sample of the conditions DataFrame\n",
    "print(\"\\n--- Sample of Conditions DataFrame ---\")\n",
    "print(conditions.head())"
   ]
  },
  {
   "cell_type": "code",
   "execution_count": null,
   "id": "1c149fed",
   "metadata": {},
   "outputs": [],
   "source": [
    "# Ensure 'CODE' is string for comparison\n",
    "conditions[\"CODE\"] = conditions[\"CODE\"].astype(str).str.strip()"
   ]
  },
  {
   "cell_type": "code",
   "execution_count": null,
   "id": "5c21e52e",
   "metadata": {},
   "outputs": [],
   "source": [
    "# Hypertension SNOMED codes\n",
    "hypertensive_codes = [\"10509002.0\", \"283371005.0\", \"444814009.0\"]"
   ]
  },
  {
   "cell_type": "code",
   "execution_count": null,
   "id": "482c2001",
   "metadata": {},
   "outputs": [],
   "source": [
    "# Identify hypertensive patients\n",
    "print(\"\\nIdentifying hypertensive patients...\")\n",
    "hypertensive_patients = conditions[conditions[\"CODE\"].isin(hypertensive_codes)][\"PATIENT\"].unique()\n",
    "print(f\"Number of hypertensive patients: {len(hypertensive_patients)}\")"
   ]
  },
  {
   "cell_type": "code",
   "execution_count": null,
   "id": "f71b2b26",
   "metadata": {},
   "outputs": [],
   "source": [
    "# Filter for Systolic, Diastolic BP, and BMI\n",
    "systolic_code = \"8480-6\"\n",
    "diastolic_code = \"8462-4\"\n",
    "bmi_code = \"39156-5\""
   ]
  },
  {
   "cell_type": "code",
   "execution_count": null,
   "id": "a50cae39",
   "metadata": {},
   "outputs": [],
   "source": [
    "# Make sure 'CODE' is string in observations too\n",
    "observations[\"CODE\"] = observations[\"CODE\"].astype(str).str.strip()"
   ]
  },
  {
   "cell_type": "code",
   "execution_count": null,
   "id": "ac225387",
   "metadata": {},
   "outputs": [],
   "source": [
    "# Extract relevant observations\n",
    "bp_sys = observations[observations[\"CODE\"] == systolic_code][[\"PATIENT\", \"VALUE\"]].rename(columns={\"VALUE\": \"SYSTOLIC_BP\"})\n",
    "bp_dia = observations[observations[\"CODE\"] == diastolic_code][[\"PATIENT\", \"VALUE\"]].rename(columns={\"VALUE\": \"DIASTOLIC_BP\"})\n",
    "bmi = observations[observations[\"CODE\"] == bmi_code][[\"PATIENT\", \"VALUE\"]].rename(columns={\"VALUE\": \"BMI\"})"
   ]
  },
  {
   "cell_type": "code",
   "execution_count": null,
   "id": "365b6312",
   "metadata": {},
   "outputs": [],
   "source": [
    "# Merge BP readings\n",
    "bp = pd.merge(bp_sys, bp_dia, on=\"PATIENT\", how=\"inner\")"
   ]
  },
  {
   "cell_type": "code",
   "execution_count": null,
   "id": "2b5ef644",
   "metadata": {},
   "outputs": [],
   "source": [
    "# Merge with BMI\n",
    "bp_bmi = pd.merge(bp, bmi, on=\"PATIENT\", how=\"inner\")"
   ]
  },
  {
   "cell_type": "code",
   "execution_count": null,
   "id": "868f2ff8",
   "metadata": {},
   "outputs": [],
   "source": [
    "# Tag hypertensive vs non-hypertensive\n",
    "bp_bmi[\"HYPERTENSIVE\"] = bp_bmi[\"PATIENT\"].isin(hypertensive_patients)"
   ]
  },
  {
   "cell_type": "code",
   "execution_count": null,
   "id": "7e838e21",
   "metadata": {},
   "outputs": [],
   "source": [
    "# Convert columns to numeric, forcing errors to NaN\n",
    "bp_bmi[\"SYSTOLIC_BP\"] = pd.to_numeric(bp_bmi[\"SYSTOLIC_BP\"], errors='coerce')\n",
    "bp_bmi[\"DIASTOLIC_BP\"] = pd.to_numeric(bp_bmi[\"DIASTOLIC_BP\"], errors='coerce')\n",
    "bp_bmi[\"BMI\"] = pd.to_numeric(bp_bmi[\"BMI\"], errors='coerce')"
   ]
  },
  {
   "cell_type": "code",
   "execution_count": null,
   "id": "0cf35b33",
   "metadata": {},
   "outputs": [],
   "source": [
    "# Check shapes of the relevant data to ensure they are 1D\n",
    "print(\"\\n--- Checking Shapes of Data ---\")\n",
    "print(f\"Shape of Systolic BP: {bp_bmi['SYSTOLIC_BP'].dropna().shape}\")\n",
    "print(f\"Shape of BMI: {bp_bmi['BMI'].dropna().shape}\")"
   ]
  },
  {
   "cell_type": "code",
   "execution_count": null,
   "id": "76cacf98",
   "metadata": {},
   "outputs": [],
   "source": [
    "# Plotting\n",
    "# Ensure we pass numpy arrays for the KDE plot\n",
    "plt.figure(figsize=(14, 7))"
   ]
  },
  {
   "cell_type": "code",
   "execution_count": null,
   "id": "809ec27e",
   "metadata": {},
   "outputs": [],
   "source": [
    "# For faster plotting, sample a subset of data (e.g., 10% of the data)\n",
    "sample_size = 0.1\n",
    "hyper_sample = bp_bmi[bp_bmi[\"HYPERTENSIVE\"]].sample(frac=sample_size, random_state=42)\n",
    "nonhyper_sample = bp_bmi[~bp_bmi[\"HYPERTENSIVE\"]].sample(frac=sample_size, random_state=42)"
   ]
  },
  {
   "cell_type": "code",
   "execution_count": null,
   "id": "4654ea16",
   "metadata": {},
   "outputs": [],
   "source": [
    "# Convert the SYSTOLIC_BP column to a numpy array and flatten it\n",
    "hypertensive_systolic_bp = np.ravel(hyper_sample[\"SYSTOLIC_BP\"].dropna().values)\n",
    "non_hypertensive_systolic_bp = np.ravel(nonhyper_sample[\"SYSTOLIC_BP\"].dropna().values)"
   ]
  },
  {
   "cell_type": "code",
   "execution_count": null,
   "id": "414a8592",
   "metadata": {},
   "outputs": [],
   "source": [
    "# Plotting the density plots\n",
    "sns.kdeplot(hypertensive_systolic_bp, label=\"Hypertensive\", color=\"red\")\n",
    "sns.kdeplot(non_hypertensive_systolic_bp, label=\"Non-Hypertensive\", color=\"blue\")"
   ]
  },
  {
   "cell_type": "code",
   "execution_count": null,
   "id": "66150d4a",
   "metadata": {},
   "outputs": [],
   "source": [
    "plt.title(\"Systolic BP Distribution (Sampled Data)\")\n",
    "plt.xlabel(\"Systolic BP\")\n",
    "plt.ylabel(\"Density\")\n",
    "plt.legend()\n",
    "plt.tight_layout()\n",
    "plt.show()"
   ]
  },
  {
   "cell_type": "code",
   "execution_count": null,
   "id": "c9e7ac24",
   "metadata": {
    "lines_to_next_cell": 2
   },
   "outputs": [],
   "source": [
    "# BMI Plot\n",
    "plt.figure(figsize=(14, 7))\n",
    "sns.kdeplot(np.ravel(hyper_sample[\"BMI\"].dropna().values), label=\"Hypertensive\", color=\"red\")\n",
    "sns.kdeplot(np.ravel(nonhyper_sample[\"BMI\"].dropna().values), label=\"Non-Hypertensive\", color=\"blue\")\n",
    "plt.title(\"BMI Distribution (Sampled Data)\")\n",
    "plt.xlabel(\"BMI\")\n",
    "plt.ylabel(\"Density\")\n",
    "plt.legend()\n",
    "plt.tight_layout()\n",
    "plt.show()"
   ]
  },
  {
   "cell_type": "markdown",
   "id": "61b16126",
   "metadata": {},
   "source": [
    "09_hypertension_prevalence.py"
   ]
  },
  {
   "cell_type": "code",
   "execution_count": null,
   "id": "79360389",
   "metadata": {},
   "outputs": [],
   "source": [
    "import pandas as pd\n",
    "import matplotlib.pyplot as plt\n",
    "import seaborn as sns"
   ]
  },
  {
   "cell_type": "code",
   "execution_count": null,
   "id": "8f8151b2",
   "metadata": {},
   "outputs": [],
   "source": [
    "# Load data\n",
    "print(\"Loading data...\")\n",
    "patients = pd.read_csv(\"data/original/patients.csv.gz\")\n",
    "conditions = pd.read_csv(\"data/original/conditions.csv.gz\")\n",
    "observations = pd.read_csv(\"data/original/observations.csv.gz\")"
   ]
  },
  {
   "cell_type": "code",
   "execution_count": null,
   "id": "b4bf3fa7",
   "metadata": {},
   "outputs": [],
   "source": [
    "print(\"\\n--- Sample of Conditions ---\")\n",
    "print(conditions.head())"
   ]
  },
  {
   "cell_type": "code",
   "execution_count": null,
   "id": "748a51f3",
   "metadata": {},
   "outputs": [],
   "source": [
    "# Update hypertension codes from sample\n",
    "hypertension_codes = {\"10509002\", \"283371005\", \"444814009\", \"16114001\"}"
   ]
  },
  {
   "cell_type": "code",
   "execution_count": null,
   "id": "084d8b9a",
   "metadata": {
    "lines_to_next_cell": 2
   },
   "outputs": [],
   "source": [
    "conditions[\"CODE\"] = conditions[\"CODE\"].astype(str).str.rstrip(\".0\")"
   ]
  },
  {
   "cell_type": "code",
   "execution_count": null,
   "id": "d686b5cb",
   "metadata": {},
   "outputs": [],
   "source": [
    "print(\"\\nIdentifying hypertensive patients...\")\n",
    "hypertensive_patients = conditions[conditions[\"CODE\"].isin(hypertension_codes)][\"PATIENT\"].unique()\n",
    "print(\"Number of hypertensive patients:\", len(hypertensive_patients))"
   ]
  },
  {
   "cell_type": "code",
   "execution_count": null,
   "id": "06a6fab7",
   "metadata": {},
   "outputs": [],
   "source": [
    "print(\"\\n--- Summary: Blood Pressure ---\")"
   ]
  },
  {
   "cell_type": "code",
   "execution_count": null,
   "id": "95ddb996",
   "metadata": {},
   "outputs": [],
   "source": [
    "bp_codes = {\"8480-6\": \"SYSTOLIC_BP\", \"8462-4\": \"DIASTOLIC_BP\"}\n",
    "bmi_code = \"39156-5\""
   ]
  },
  {
   "cell_type": "code",
   "execution_count": null,
   "id": "b5fc5af5",
   "metadata": {},
   "outputs": [],
   "source": [
    "# Filter and clean observations\n",
    "bp_obs = observations[observations[\"CODE\"].isin(bp_codes.keys())].copy()\n",
    "bmi_obs = observations[observations[\"CODE\"] == bmi_code].copy()"
   ]
  },
  {
   "cell_type": "code",
   "execution_count": null,
   "id": "b7da645d",
   "metadata": {},
   "outputs": [],
   "source": [
    "bp_obs[\"VALUE\"] = pd.to_numeric(bp_obs[\"VALUE\"], errors=\"coerce\")\n",
    "bmi_obs[\"VALUE\"] = pd.to_numeric(bmi_obs[\"VALUE\"], errors=\"coerce\")"
   ]
  },
  {
   "cell_type": "code",
   "execution_count": null,
   "id": "24582354",
   "metadata": {},
   "outputs": [],
   "source": [
    "# Pivot BP\n",
    "bp_wide = bp_obs.pivot_table(index=[\"PATIENT\", \"DATE\"], \n",
    "                              columns=\"CODE\", values=\"VALUE\", aggfunc=\"mean\").reset_index()\n",
    "bp_wide.rename(columns=bp_codes, inplace=True)"
   ]
  },
  {
   "cell_type": "code",
   "execution_count": null,
   "id": "5e3fd79c",
   "metadata": {},
   "outputs": [],
   "source": [
    "bmi_clean = bmi_obs[[\"PATIENT\", \"DATE\", \"VALUE\"]].rename(columns={\"VALUE\": \"BMI\"})"
   ]
  },
  {
   "cell_type": "code",
   "execution_count": null,
   "id": "8133dd3f",
   "metadata": {},
   "outputs": [],
   "source": [
    "# Merge and tag\n",
    "data = pd.merge(bp_wide, bmi_clean, on=[\"PATIENT\", \"DATE\"], how=\"outer\")\n",
    "data[\"HYPERTENSION\"] = data[\"PATIENT\"].isin(hypertensive_patients)"
   ]
  },
  {
   "cell_type": "code",
   "execution_count": null,
   "id": "0e241271",
   "metadata": {},
   "outputs": [],
   "source": [
    "# Split and clean\n",
    "hyper = data[data[\"HYPERTENSION\"] == True].copy()\n",
    "non_hyper = data[data[\"HYPERTENSION\"] == False].copy()"
   ]
  },
  {
   "cell_type": "code",
   "execution_count": null,
   "id": "cc862d69",
   "metadata": {},
   "outputs": [],
   "source": [
    "for df in [hyper, non_hyper]:\n",
    "    df[\"SYSTOLIC_BP\"] = pd.to_numeric(df[\"SYSTOLIC_BP\"], errors=\"coerce\")\n",
    "    df[\"DIASTOLIC_BP\"] = pd.to_numeric(df[\"DIASTOLIC_BP\"], errors=\"coerce\")\n",
    "    df[\"BMI\"] = pd.to_numeric(df[\"BMI\"], errors=\"coerce\")"
   ]
  },
  {
   "cell_type": "code",
   "execution_count": null,
   "id": "2ba166c4",
   "metadata": {},
   "outputs": [],
   "source": [
    "# Summary stats\n",
    "print(\"\\nHypertensive BP:\\n\", hyper[[\"SYSTOLIC_BP\", \"DIASTOLIC_BP\"]].describe())\n",
    "print(\"\\nNon-Hypertensive BP:\\n\", non_hyper[[\"SYSTOLIC_BP\", \"DIASTOLIC_BP\"]].describe())"
   ]
  },
  {
   "cell_type": "code",
   "execution_count": null,
   "id": "98c14e96",
   "metadata": {},
   "outputs": [],
   "source": [
    "print(\"\\n--- Summary: BMI ---\")\n",
    "print(\"\\nHypertensive BMI:\\n\", hyper[\"BMI\"].describe())\n",
    "print(\"\\nNon-Hypertensive BMI:\\n\", non_hyper[\"BMI\"].describe())"
   ]
  },
  {
   "cell_type": "code",
   "execution_count": null,
   "id": "495601d2",
   "metadata": {
    "lines_to_next_cell": 2
   },
   "outputs": [],
   "source": [
    "# --- Plots ---\n",
    "# Explicitly convert data to a 1D NumPy array using np.ravel()\n",
    "import numpy as np"
   ]
  },
  {
   "cell_type": "code",
   "execution_count": null,
   "id": "2d87ceeb",
   "metadata": {
    "lines_to_next_cell": 2
   },
   "outputs": [],
   "source": [
    "sns.kdeplot(np.array(hyper[\"SYSTOLIC_BP\"].dropna()), label=\"Hypertensive\", color=\"red\")\n",
    "sns.kdeplot(np.array(non_hyper[\"SYSTOLIC_BP\"].dropna()), label=\"Non-Hypertensive\", color=\"blue\")"
   ]
  },
  {
   "cell_type": "code",
   "execution_count": null,
   "id": "5e33c646",
   "metadata": {},
   "outputs": [],
   "source": [
    "plt.title(\"Systolic Blood Pressure Distribution\")\n",
    "plt.xlabel(\"Systolic BP (mmHg)\")\n",
    "plt.legend()\n",
    "plt.show()"
   ]
  },
  {
   "cell_type": "code",
   "execution_count": null,
   "id": "67bd6494",
   "metadata": {},
   "outputs": [],
   "source": [
    "sns.kdeplot(hyper[\"DIASTOLIC_BP\"].dropna().values, label=\"Hypertensive\", color=\"red\")\n",
    "sns.kdeplot(non_hyper[\"DIASTOLIC_BP\"].dropna().values, label=\"Non-Hypertensive\", color=\"blue\")\n",
    "plt.title(\"Diastolic Blood Pressure Distribution\")\n",
    "plt.xlabel(\"Diastolic BP (mmHg)\")\n",
    "plt.legend()\n",
    "plt.show()"
   ]
  },
  {
   "cell_type": "code",
   "execution_count": null,
   "id": "3b4b5153",
   "metadata": {
    "lines_to_next_cell": 2
   },
   "outputs": [],
   "source": [
    "sns.kdeplot(hyper[\"BMI\"].dropna().values, label=\"Hypertensive\", color=\"red\")\n",
    "sns.kdeplot(non_hyper[\"BMI\"].dropna().values, label=\"Non-Hypertensive\", color=\"blue\")\n",
    "plt.title(\"BMI Distribution\")\n",
    "plt.xlabel(\"BMI (kg/m²)\")\n",
    "plt.legend()\n",
    "plt.show()"
   ]
  },
  {
   "cell_type": "code",
   "execution_count": null,
   "id": "a89358c5",
   "metadata": {},
   "outputs": [],
   "source": [
    "# --- Crude prevalence ---\n",
    "print(\"\\n--- Crude Prevalence of Hypertension ---\")\n",
    "total_patients = patients[\"Id\"].nunique()\n",
    "crude_prevalence = len(hypertensive_patients) / total_patients\n",
    "print(f\"Crude prevalence: {crude_prevalence:.2%}\")"
   ]
  },
  {
   "cell_type": "code",
   "execution_count": null,
   "id": "8e29a20c",
   "metadata": {
    "lines_to_next_cell": 2
   },
   "outputs": [],
   "source": [
    "# --- Adjusted prevalence ---\n",
    "print(\"\\n--- Adjusted Prevalence (Placeholder) ---\")\n",
    "print(\"Adjusted prevalence estimation requires UK population age distribution.\")"
   ]
  }
 ],
 "metadata": {
  "jupytext": {
   "cell_metadata_filter": "-all"
  },
  "kernelspec": {
   "display_name": "Python 3 (ipykernel)",
   "language": "python",
   "name": "python3"
  }
 },
 "nbformat": 4,
 "nbformat_minor": 5
}
